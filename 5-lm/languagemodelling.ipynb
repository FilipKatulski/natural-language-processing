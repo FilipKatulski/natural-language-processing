{
 "cells": [
  {
   "cell_type": "markdown",
   "metadata": {},
   "source": [
    "# 5. Language Modelling\n",
    "\n",
    "\n",
    "https://huggingface.co/docs/transformers/task_summary#language-modeling \n",
    "\n",
    "https://huggingface.co/models?filter=pl\n",
    "\n",
    "Herbert od Allegro, Papuga, Polski Bert"
   ]
  },
  {
   "cell_type": "code",
   "execution_count": null,
   "metadata": {},
   "outputs": [],
   "source": []
  }
 ],
 "metadata": {
  "language_info": {
   "name": "python"
  },
  "orig_nbformat": 4
 },
 "nbformat": 4,
 "nbformat_minor": 2
}
