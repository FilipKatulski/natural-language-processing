{
 "cells": [
  {
   "cell_type": "markdown",
   "metadata": {},
   "source": [
    "# Levenshtein distance and spelling corrections"
   ]
  },
  {
   "cell_type": "code",
   "execution_count": 1,
   "metadata": {},
   "outputs": [],
   "source": [
    "from elasticsearch import Elasticsearch\n",
    "from spacy.tokenizer import Tokenizer\n",
    "from spacy.lang.pl import Polish"
   ]
  },
  {
   "cell_type": "markdown",
   "metadata": {},
   "source": [
    "Please, for this Notebook to run disable security features (SSL) in elastic.yml."
   ]
  },
  {
   "cell_type": "code",
   "execution_count": 5,
   "metadata": {},
   "outputs": [
    {
     "name": "stdout",
     "output_type": "stream",
     "text": [
      "Awww it could not connect!\n",
      "False\n"
     ]
    }
   ],
   "source": [
    "es = Elasticsearch(\"https://localhost:9200/\")\n",
    "if es.ping():\n",
    "    print('Yay Connect')\n",
    "    print(es)\n",
    "else:\n",
    "    print('Awww it could not connect!')\n",
    "    print(es.ping())"
   ]
  },
  {
   "cell_type": "code",
   "execution_count": null,
   "metadata": {},
   "outputs": [],
   "source": [
    "nlp = spacy.load(\"pl_core_news_sm\")\n",
    "tokenizer = nlp.tokenizer"
   ]
  }
 ],
 "metadata": {
  "kernelspec": {
   "display_name": "Python 3.9.12 ('base')",
   "language": "python",
   "name": "python3"
  },
  "language_info": {
   "codemirror_mode": {
    "name": "ipython",
    "version": 3
   },
   "file_extension": ".py",
   "mimetype": "text/x-python",
   "name": "python",
   "nbconvert_exporter": "python",
   "pygments_lexer": "ipython3",
   "version": "3.9.12"
  },
  "orig_nbformat": 4,
  "vscode": {
   "interpreter": {
    "hash": "a447cce11633770116628ba2ec33bfc43075824ffa0595b2fdbcb87d335f18be"
   }
  }
 },
 "nbformat": 4,
 "nbformat_minor": 2
}
